{
 "cells": [
  {
   "cell_type": "code",
   "execution_count": 8,
   "id": "68934f79",
   "metadata": {},
   "outputs": [],
   "source": [
    "import pandas as pd\n",
    "import seaborn as sns\n",
    "import matplotlib.pyplot as plt\n",
    "from scipy import stats\n",
    "import numpy as np\n",
    "\n",
    "# Carregar os dados\n",
    "df = pd.read_excel('Ligas vs Atletas.xlsx', sheet_name='Analise 2')\n",
    "\n"
   ]
  },
  {
   "cell_type": "code",
   "execution_count": 9,
   "id": "bf5a1ed4",
   "metadata": {},
   "outputs": [
    {
     "name": "stdout",
     "output_type": "stream",
     "text": [
      "          Salário médio                                              \\\n",
      "                  count       mean           std      min       25%   \n",
      "Gênero                                                                \n",
      "Feminino            5.0    62608.0  6.477862e+04   3500.0   22800.0   \n",
      "Masculino           5.0  3146224.6  2.851236e+06  50000.0  358333.0   \n",
      "\n",
      "                                           razão salário/receita            \\\n",
      "                 50%        75%        max                 count      mean   \n",
      "Gênero                                                                       \n",
      "Feminino     50073.0    66667.0   170000.0                   3.0  0.000279   \n",
      "Masculino  3594228.0  5561896.0  6166666.0                   4.0  0.000243   \n",
      "\n",
      "           ... razão salário/publico             razão salário/audiência  \\\n",
      "           ...                   75%         max                   count   \n",
      "Gênero     ...                                                             \n",
      "Feminino   ...              7.935272    9.032245                     5.0   \n",
      "Masculino  ...            201.376181  306.491211                     5.0   \n",
      "\n",
      "                                                                       \\\n",
      "               mean       std       min       25%       50%       75%   \n",
      "Gênero                                                                  \n",
      "Feminino   0.065027  0.092448  0.001167  0.009500  0.042279  0.045521   \n",
      "Masculino  3.962151  5.207593  0.058743  0.142857  0.634920  7.679974   \n",
      "\n",
      "                      \n",
      "                 max  \n",
      "Gênero                \n",
      "Feminino    0.226667  \n",
      "Masculino  11.294260  \n",
      "\n",
      "[2 rows x 32 columns]\n",
      "\n",
      "Médias Comparativas:\n",
      "            Salário médio  razão salário/receita  razão salário/publico  \\\n",
      "Gênero                                                                   \n",
      "Feminino         62608.0               0.000279               4.759481   \n",
      "Masculino      3146224.6               0.000243             159.958826   \n",
      "\n",
      "           razão salário/audiência  \n",
      "Gênero                              \n",
      "Feminino                  0.065027  \n",
      "Masculino                 3.962151  \n"
     ]
    }
   ],
   "source": [
    "# Estatísticas básicas por gênero\n",
    "desc_stats = df.groupby('Gênero')[['Salário médio', 'razão salário/receita', \n",
    "                                  'razão salário/publico', 'razão salário/audiência']].describe()\n",
    "print(desc_stats)\n",
    "\n",
    "# Médias comparativas\n",
    "medias_comparativas = df.groupby('Gênero')[['Salário médio', 'razão salário/receita', \n",
    "                                          'razão salário/publico', 'razão salário/audiência']].mean()\n",
    "print(\"\\nMédias Comparativas:\\n\", medias_comparativas)"
   ]
  },
  {
   "cell_type": "code",
   "execution_count": 19,
   "id": "65581dd8",
   "metadata": {},
   "outputs": [
    {
     "name": "stdout",
     "output_type": "stream",
     "text": [
      "                            OLS Regression Results                            \n",
      "==============================================================================\n",
      "Dep. Variable:          salario_medio   R-squared:                       0.936\n",
      "Model:                            OLS   Adj. R-squared:                  0.807\n",
      "Method:                 Least Squares   F-statistic:                     7.286\n",
      "Date:                Mon, 14 Jul 2025   Prob (F-statistic):              0.124\n",
      "Time:                        21:19:13   Log-Likelihood:                -103.64\n",
      "No. Observations:                   7   AIC:                             217.3\n",
      "Df Residuals:                       2   BIC:                             217.0\n",
      "Df Model:                           4                                         \n",
      "Covariance Type:            nonrobust                                         \n",
      "=======================================================================================\n",
      "                          coef    std err          t      P>|t|      [0.025      0.975]\n",
      "---------------------------------------------------------------------------------------\n",
      "Intercept            2.809e+06   1.59e+06      1.764      0.220   -4.04e+06    9.66e+06\n",
      "Gênero[T.Masculino]  7.531e+06   2.58e+06      2.920      0.100   -3.57e+06    1.86e+07\n",
      "Receita                 0.0004      0.000      3.224      0.084      -0.000       0.001\n",
      "media_publico        -494.4054    197.711     -2.501      0.130   -1345.088     356.277\n",
      "audiência              -0.0253      0.204     -0.124      0.913      -0.904       0.854\n",
      "==============================================================================\n",
      "Omnibus:                          nan   Durbin-Watson:                   1.645\n",
      "Prob(Omnibus):                    nan   Jarque-Bera (JB):                0.427\n",
      "Skew:                          -0.498   Prob(JB):                        0.808\n",
      "Kurtosis:                       2.314   Cond. No.                     1.14e+11\n",
      "==============================================================================\n",
      "\n",
      "Notes:\n",
      "[1] Standard Errors assume that the covariance matrix of the errors is correctly specified.\n",
      "[2] The condition number is large, 1.14e+11. This might indicate that there are\n",
      "strong multicollinearity or other numerical problems.\n"
     ]
    },
    {
     "name": "stderr",
     "output_type": "stream",
     "text": [
      "c:\\ProgramData\\anaconda3\\Lib\\site-packages\\statsmodels\\stats\\stattools.py:74: ValueWarning: omni_normtest is not valid with less than 8 observations; 7 samples were given.\n",
      "  warn(\"omni_normtest is not valid with less than 8 observations; %i \"\n"
     ]
    }
   ],
   "source": [
    "# Antes de rodar o modelo, renomeie as colunas\n",
    "df = df.rename(columns={\n",
    "    'Salário médio': 'salario_medio',\n",
    "    'média de público': 'media_publico'\n",
    "})\n",
    "\n",
    "# Agora use os novos nomes sem espaços/acentos\n",
    "model = ols('salario_medio ~ Gênero + Receita + media_publico + audiência', data=df).fit()\n",
    "print(model.summary())"
   ]
  },
  {
   "cell_type": "code",
   "execution_count": 24,
   "id": "1e16af99",
   "metadata": {},
   "outputs": [
    {
     "name": "stderr",
     "output_type": "stream",
     "text": [
      "C:\\Users\\henriquebspc\\AppData\\Local\\Temp\\ipykernel_43328\\3410333308.py:6: SettingWithCopyWarning: \n",
      "A value is trying to be set on a copy of a slice from a DataFrame.\n",
      "Try using .loc[row_indexer,col_indexer] = value instead\n",
      "\n",
      "See the caveats in the documentation: https://pandas.pydata.org/pandas-docs/stable/user_guide/indexing.html#returning-a-view-versus-a-copy\n",
      "  X['Gênero'] = LabelEncoder().fit_transform(df['Gênero'])\n"
     ]
    },
    {
     "data": {
      "image/png": "[encoded data removed]",
      "text/plain": [
       "<Figure size 640x480 with 1 Axes>"
      ]
     },
     "metadata": {},
     "output_type": "display_data"
    }
   ],
   "source": [
    "from sklearn.ensemble import RandomForestRegressor\n",
    "from sklearn.preprocessing import LabelEncoder\n",
    "\n",
    "# Preparar dados\n",
    "X = df[['Receita', 'media_publico', 'audiência']]\n",
    "X['Gênero'] = LabelEncoder().fit_transform(df['Gênero'])\n",
    "y = df['salario_medio']\n",
    "\n",
    "# Modelo\n",
    "model = RandomForestRegressor()\n",
    "model.fit(X, y)\n",
    "\n",
    "# Importância das features\n",
    "pd.Series(model.feature_importances_, index=X.columns).plot.bar()\n",
    "plt.title('Importância das Variáveis para Prever Salários')\n",
    "plt.show()"
   ]
  },
  {
   "cell_type": "code",
   "execution_count": 35,
   "id": "020ef472",
   "metadata": {},
   "outputs": [
    {
     "data": {
      "text/plain": [
       "Gênero\n",
       "Feminino    -341837.316\n",
       "Masculino    220412.470\n",
       "Name: disparidade, dtype: float64"
      ]
     },
     "execution_count": 35,
     "metadata": {},
     "output_type": "execute_result"
    }
   ],
   "source": [
    "# Modelo usando APENAS fatores objetivos (sem gênero)\n",
    "model_objetivo = RandomForestRegressor()\n",
    "model_objetivo.fit(X[['Receita', 'media_publico', 'audiência']], y)\n",
    "\n",
    "# Previsões \"justas\" (se não houvesse viés)\n",
    "df['salario_previsto'] = model_objetivo.predict(X[['Receita', 'media_publico', 'audiência']])\n",
    "\n",
    "# Calcular disparidade\n",
    "df['disparidade'] = df['salario_medio'] - df['salario_previsto']\n",
    "\n",
    "# Média de disparidade por gênero\n",
    "df.groupby('Gênero')['disparidade'].mean()"
   ]
  }
 ],
 "metadata": {
  "kernelspec": {
   "display_name": "base",
   "language": "python",
   "name": "python3"
  },
  "language_info": {
   "codemirror_mode": {
    "name": "ipython",
    "version": 3
   },
   "file_extension": ".py",
   "mimetype": "text/x-python",
   "name": "python",
   "nbconvert_exporter": "python",
   "pygments_lexer": "ipython3",
   "version": "3.12.3"
  }
 },
 "nbformat": 4,
 "nbformat_minor": 5
}
